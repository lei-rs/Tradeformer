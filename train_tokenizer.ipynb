{
 "cells": [
  {
   "cell_type": "code",
   "execution_count": 1,
   "metadata": {
    "collapsed": true
   },
   "outputs": [],
   "source": [
    "from utils_data import *\n",
    "from models import *"
   ]
  },
  {
   "cell_type": "code",
   "execution_count": 2,
   "outputs": [],
   "source": [
    "a2v = A2VDataModule(300, 1, 0.2, 32, 1000)"
   ],
   "metadata": {
    "collapsed": false
   }
  },
  {
   "cell_type": "code",
   "execution_count": 3,
   "outputs": [
    {
     "data": {
      "text/plain": "                   A        AA       AAL      AAON       AAP      AAPL  \\\ndate                                                                     \n2001-01-03  0.103184       NaN       NaN  0.038742       NaN  0.100134   \n2001-01-04  0.037770       NaN       NaN  0.054054       NaN  0.042150   \n2001-01-05 -0.054764       NaN       NaN  0.025641       NaN -0.040446   \n2001-01-08 -0.032873       NaN       NaN -0.025000       NaN  0.011607   \n2001-01-09 -0.004695       NaN       NaN  0.025641       NaN  0.038043   \n...              ...       ...       ...       ...       ...       ...   \n2022-10-25  0.016629  0.059229  0.013475  0.050383  0.027064  0.019338   \n2022-10-26  0.023718  0.027959 -0.020294 -0.005672  0.002260 -0.019627   \n2022-10-27 -0.008715 -0.029074 -0.002143  0.028846  0.034487 -0.030465   \n2022-10-28  0.016705 -0.046366  0.002147  0.031998  0.013771  0.075553   \n2022-10-31 -0.003027 -0.009116  0.012857 -0.010130 -0.003934 -0.015410   \n\n                 AAT      AAWW        AB      ABBV  ...        ZD       ZEN  \\\ndate                                                ...                       \n2001-01-03       NaN       NaN  0.077181       NaN  ...  0.161290       NaN   \n2001-01-04       NaN       NaN -0.015728       NaN  ...  0.055556       NaN   \n2001-01-05       NaN       NaN  0.002367       NaN  ... -0.105263       NaN   \n2001-01-08       NaN       NaN -0.018303       NaN  ...  0.000000       NaN   \n2001-01-09       NaN       NaN  0.008621       NaN  ...  0.000000       NaN   \n...              ...       ...       ...       ...  ...       ...       ...   \n2022-10-25  0.033670  0.000498  0.020941 -0.007091  ...  0.036458  0.002758   \n2022-10-26  0.000362  0.001492  0.005620  0.017955  ...  0.000515 -0.001310   \n2022-10-27 -0.016281 -0.001589 -0.007823  0.006491  ... -0.016356 -0.003279   \n2022-10-28  0.009194  0.003183  0.049000 -0.038371  ...  0.028934  0.006711   \n2022-10-31  0.001458  0.002776  0.010201 -0.008197  ... -0.015269  0.002353   \n\n                  ZI      ZION        ZM      ZNTL        ZS       ZTS  \\\ndate                                                                     \n2001-01-03       NaN  0.033367       NaN       NaN       NaN       NaN   \n2001-01-04       NaN -0.020181       NaN       NaN       NaN       NaN   \n2001-01-05       NaN -0.011369       NaN       NaN       NaN       NaN   \n2001-01-08       NaN  0.002167       NaN       NaN       NaN       NaN   \n2001-01-09       NaN -0.010477       NaN       NaN       NaN       NaN   \n...              ...       ...       ...       ...       ...       ...   \n2022-10-25  0.050169  0.034753  0.043171  0.039726  0.056635  0.019616   \n2022-10-26 -0.021422 -0.021549 -0.008562  0.061924 -0.038577 -0.004137   \n2022-10-27  0.009413 -0.000397 -0.009116 -0.015716  0.018142 -0.003494   \n2022-10-28 -0.020169  0.023025  0.019368  0.059244  0.001236  0.014159   \n2022-10-31 -0.014387  0.007761 -0.009144 -0.004760  0.000909 -0.014190   \n\n                 ZUO       ZWS  \ndate                            \n2001-01-03       NaN       NaN  \n2001-01-04       NaN       NaN  \n2001-01-05       NaN       NaN  \n2001-01-08       NaN       NaN  \n2001-01-09       NaN       NaN  \n...              ...       ...  \n2022-10-25  0.011096  0.032908  \n2022-10-26  0.023320 -0.110315  \n2022-10-27  0.013405  0.003581  \n2022-10-28  0.021164  0.021855  \n2022-10-31 -0.003886  0.025316  \n\n[5492 rows x 1856 columns]",
      "text/html": "<div>\n<style scoped>\n    .dataframe tbody tr th:only-of-type {\n        vertical-align: middle;\n    }\n\n    .dataframe tbody tr th {\n        vertical-align: top;\n    }\n\n    .dataframe thead th {\n        text-align: right;\n    }\n</style>\n<table border=\"1\" class=\"dataframe\">\n  <thead>\n    <tr style=\"text-align: right;\">\n      <th></th>\n      <th>A</th>\n      <th>AA</th>\n      <th>AAL</th>\n      <th>AAON</th>\n      <th>AAP</th>\n      <th>AAPL</th>\n      <th>AAT</th>\n      <th>AAWW</th>\n      <th>AB</th>\n      <th>ABBV</th>\n      <th>...</th>\n      <th>ZD</th>\n      <th>ZEN</th>\n      <th>ZI</th>\n      <th>ZION</th>\n      <th>ZM</th>\n      <th>ZNTL</th>\n      <th>ZS</th>\n      <th>ZTS</th>\n      <th>ZUO</th>\n      <th>ZWS</th>\n    </tr>\n    <tr>\n      <th>date</th>\n      <th></th>\n      <th></th>\n      <th></th>\n      <th></th>\n      <th></th>\n      <th></th>\n      <th></th>\n      <th></th>\n      <th></th>\n      <th></th>\n      <th></th>\n      <th></th>\n      <th></th>\n      <th></th>\n      <th></th>\n      <th></th>\n      <th></th>\n      <th></th>\n      <th></th>\n      <th></th>\n      <th></th>\n    </tr>\n  </thead>\n  <tbody>\n    <tr>\n      <th>2001-01-03</th>\n      <td>0.103184</td>\n      <td>NaN</td>\n      <td>NaN</td>\n      <td>0.038742</td>\n      <td>NaN</td>\n      <td>0.100134</td>\n      <td>NaN</td>\n      <td>NaN</td>\n      <td>0.077181</td>\n      <td>NaN</td>\n      <td>...</td>\n      <td>0.161290</td>\n      <td>NaN</td>\n      <td>NaN</td>\n      <td>0.033367</td>\n      <td>NaN</td>\n      <td>NaN</td>\n      <td>NaN</td>\n      <td>NaN</td>\n      <td>NaN</td>\n      <td>NaN</td>\n    </tr>\n    <tr>\n      <th>2001-01-04</th>\n      <td>0.037770</td>\n      <td>NaN</td>\n      <td>NaN</td>\n      <td>0.054054</td>\n      <td>NaN</td>\n      <td>0.042150</td>\n      <td>NaN</td>\n      <td>NaN</td>\n      <td>-0.015728</td>\n      <td>NaN</td>\n      <td>...</td>\n      <td>0.055556</td>\n      <td>NaN</td>\n      <td>NaN</td>\n      <td>-0.020181</td>\n      <td>NaN</td>\n      <td>NaN</td>\n      <td>NaN</td>\n      <td>NaN</td>\n      <td>NaN</td>\n      <td>NaN</td>\n    </tr>\n    <tr>\n      <th>2001-01-05</th>\n      <td>-0.054764</td>\n      <td>NaN</td>\n      <td>NaN</td>\n      <td>0.025641</td>\n      <td>NaN</td>\n      <td>-0.040446</td>\n      <td>NaN</td>\n      <td>NaN</td>\n      <td>0.002367</td>\n      <td>NaN</td>\n      <td>...</td>\n      <td>-0.105263</td>\n      <td>NaN</td>\n      <td>NaN</td>\n      <td>-0.011369</td>\n      <td>NaN</td>\n      <td>NaN</td>\n      <td>NaN</td>\n      <td>NaN</td>\n      <td>NaN</td>\n      <td>NaN</td>\n    </tr>\n    <tr>\n      <th>2001-01-08</th>\n      <td>-0.032873</td>\n      <td>NaN</td>\n      <td>NaN</td>\n      <td>-0.025000</td>\n      <td>NaN</td>\n      <td>0.011607</td>\n      <td>NaN</td>\n      <td>NaN</td>\n      <td>-0.018303</td>\n      <td>NaN</td>\n      <td>...</td>\n      <td>0.000000</td>\n      <td>NaN</td>\n      <td>NaN</td>\n      <td>0.002167</td>\n      <td>NaN</td>\n      <td>NaN</td>\n      <td>NaN</td>\n      <td>NaN</td>\n      <td>NaN</td>\n      <td>NaN</td>\n    </tr>\n    <tr>\n      <th>2001-01-09</th>\n      <td>-0.004695</td>\n      <td>NaN</td>\n      <td>NaN</td>\n      <td>0.025641</td>\n      <td>NaN</td>\n      <td>0.038043</td>\n      <td>NaN</td>\n      <td>NaN</td>\n      <td>0.008621</td>\n      <td>NaN</td>\n      <td>...</td>\n      <td>0.000000</td>\n      <td>NaN</td>\n      <td>NaN</td>\n      <td>-0.010477</td>\n      <td>NaN</td>\n      <td>NaN</td>\n      <td>NaN</td>\n      <td>NaN</td>\n      <td>NaN</td>\n      <td>NaN</td>\n    </tr>\n    <tr>\n      <th>...</th>\n      <td>...</td>\n      <td>...</td>\n      <td>...</td>\n      <td>...</td>\n      <td>...</td>\n      <td>...</td>\n      <td>...</td>\n      <td>...</td>\n      <td>...</td>\n      <td>...</td>\n      <td>...</td>\n      <td>...</td>\n      <td>...</td>\n      <td>...</td>\n      <td>...</td>\n      <td>...</td>\n      <td>...</td>\n      <td>...</td>\n      <td>...</td>\n      <td>...</td>\n      <td>...</td>\n    </tr>\n    <tr>\n      <th>2022-10-25</th>\n      <td>0.016629</td>\n      <td>0.059229</td>\n      <td>0.013475</td>\n      <td>0.050383</td>\n      <td>0.027064</td>\n      <td>0.019338</td>\n      <td>0.033670</td>\n      <td>0.000498</td>\n      <td>0.020941</td>\n      <td>-0.007091</td>\n      <td>...</td>\n      <td>0.036458</td>\n      <td>0.002758</td>\n      <td>0.050169</td>\n      <td>0.034753</td>\n      <td>0.043171</td>\n      <td>0.039726</td>\n      <td>0.056635</td>\n      <td>0.019616</td>\n      <td>0.011096</td>\n      <td>0.032908</td>\n    </tr>\n    <tr>\n      <th>2022-10-26</th>\n      <td>0.023718</td>\n      <td>0.027959</td>\n      <td>-0.020294</td>\n      <td>-0.005672</td>\n      <td>0.002260</td>\n      <td>-0.019627</td>\n      <td>0.000362</td>\n      <td>0.001492</td>\n      <td>0.005620</td>\n      <td>0.017955</td>\n      <td>...</td>\n      <td>0.000515</td>\n      <td>-0.001310</td>\n      <td>-0.021422</td>\n      <td>-0.021549</td>\n      <td>-0.008562</td>\n      <td>0.061924</td>\n      <td>-0.038577</td>\n      <td>-0.004137</td>\n      <td>0.023320</td>\n      <td>-0.110315</td>\n    </tr>\n    <tr>\n      <th>2022-10-27</th>\n      <td>-0.008715</td>\n      <td>-0.029074</td>\n      <td>-0.002143</td>\n      <td>0.028846</td>\n      <td>0.034487</td>\n      <td>-0.030465</td>\n      <td>-0.016281</td>\n      <td>-0.001589</td>\n      <td>-0.007823</td>\n      <td>0.006491</td>\n      <td>...</td>\n      <td>-0.016356</td>\n      <td>-0.003279</td>\n      <td>0.009413</td>\n      <td>-0.000397</td>\n      <td>-0.009116</td>\n      <td>-0.015716</td>\n      <td>0.018142</td>\n      <td>-0.003494</td>\n      <td>0.013405</td>\n      <td>0.003581</td>\n    </tr>\n    <tr>\n      <th>2022-10-28</th>\n      <td>0.016705</td>\n      <td>-0.046366</td>\n      <td>0.002147</td>\n      <td>0.031998</td>\n      <td>0.013771</td>\n      <td>0.075553</td>\n      <td>0.009194</td>\n      <td>0.003183</td>\n      <td>0.049000</td>\n      <td>-0.038371</td>\n      <td>...</td>\n      <td>0.028934</td>\n      <td>0.006711</td>\n      <td>-0.020169</td>\n      <td>0.023025</td>\n      <td>0.019368</td>\n      <td>0.059244</td>\n      <td>0.001236</td>\n      <td>0.014159</td>\n      <td>0.021164</td>\n      <td>0.021855</td>\n    </tr>\n    <tr>\n      <th>2022-10-31</th>\n      <td>-0.003027</td>\n      <td>-0.009116</td>\n      <td>0.012857</td>\n      <td>-0.010130</td>\n      <td>-0.003934</td>\n      <td>-0.015410</td>\n      <td>0.001458</td>\n      <td>0.002776</td>\n      <td>0.010201</td>\n      <td>-0.008197</td>\n      <td>...</td>\n      <td>-0.015269</td>\n      <td>0.002353</td>\n      <td>-0.014387</td>\n      <td>0.007761</td>\n      <td>-0.009144</td>\n      <td>-0.004760</td>\n      <td>0.000909</td>\n      <td>-0.014190</td>\n      <td>-0.003886</td>\n      <td>0.025316</td>\n    </tr>\n  </tbody>\n</table>\n<p>5492 rows × 1856 columns</p>\n</div>"
     },
     "execution_count": 3,
     "metadata": {},
     "output_type": "execute_result"
    }
   ],
   "source": [
    "a2v.prepare_data()\n",
    "val = a2v.val_dataloader()"
   ],
   "metadata": {
    "collapsed": false
   }
  },
  {
   "cell_type": "code",
   "execution_count": 5,
   "outputs": [],
   "source": [
    "for x, y, i in val:\n",
    "    if x.isnan().any() or y.isnan().any():\n",
    "        print(i)\n",
    "        break"
   ],
   "metadata": {
    "collapsed": false
   }
  },
  {
   "cell_type": "code",
   "execution_count": 2,
   "outputs": [],
   "source": [
    "df = pd.read_parquet('Data/Top 2000/t2k_returns.parquet')"
   ],
   "metadata": {
    "collapsed": false
   }
  },
  {
   "cell_type": "code",
   "execution_count": 6,
   "outputs": [
    {
     "data": {
      "text/plain": "date\n2001-01-03         NaN\n2001-01-04         NaN\n2001-01-05         NaN\n2001-01-08         NaN\n2001-01-09         NaN\n                ...   \n2022-10-25    0.055921\n2022-10-26    0.022430\n2022-10-27    0.054235\n2022-10-28    0.078035\n2022-10-31    0.009115\nName: PRME, Length: 5492, dtype: float32"
     },
     "execution_count": 6,
     "metadata": {},
     "output_type": "execute_result"
    }
   ],
   "source": [
    "df.iloc[:, 1337]"
   ],
   "metadata": {
    "collapsed": false
   }
  },
  {
   "cell_type": "code",
   "execution_count": 7,
   "outputs": [],
   "source": [
    "df.drop(columns=['S', 'PRME'], inplace=True)"
   ],
   "metadata": {
    "collapsed": false
   }
  },
  {
   "cell_type": "code",
   "execution_count": 8,
   "outputs": [
    {
     "data": {
      "text/plain": "                   A  AA  AAL      AAON  AAP      AAPL  AAT  AAWW        AB  \\\ndate                                                                          \n2001-01-03  0.103184 NaN  NaN  0.038742  NaN  0.100134  NaN   NaN  0.077181   \n2001-01-04  0.037770 NaN  NaN  0.054054  NaN  0.042150  NaN   NaN -0.015728   \n2001-01-05 -0.054764 NaN  NaN  0.025641  NaN -0.040446  NaN   NaN  0.002367   \n2001-01-08 -0.032873 NaN  NaN -0.025000  NaN  0.011607  NaN   NaN -0.018303   \n2001-01-09 -0.004695 NaN  NaN  0.025641  NaN  0.038043  NaN   NaN  0.008621   \n\n            ABBV  ...        ZD  ZEN  ZI      ZION  ZM  ZNTL  ZS  ZTS  ZUO  \\\ndate              ...                                                        \n2001-01-03   NaN  ...  0.161290  NaN NaN  0.033367 NaN   NaN NaN  NaN  NaN   \n2001-01-04   NaN  ...  0.055556  NaN NaN -0.020181 NaN   NaN NaN  NaN  NaN   \n2001-01-05   NaN  ... -0.105263  NaN NaN -0.011369 NaN   NaN NaN  NaN  NaN   \n2001-01-08   NaN  ...  0.000000  NaN NaN  0.002167 NaN   NaN NaN  NaN  NaN   \n2001-01-09   NaN  ...  0.000000  NaN NaN -0.010477 NaN   NaN NaN  NaN  NaN   \n\n            ZWS  \ndate             \n2001-01-03  NaN  \n2001-01-04  NaN  \n2001-01-05  NaN  \n2001-01-08  NaN  \n2001-01-09  NaN  \n\n[5 rows x 1856 columns]",
      "text/html": "<div>\n<style scoped>\n    .dataframe tbody tr th:only-of-type {\n        vertical-align: middle;\n    }\n\n    .dataframe tbody tr th {\n        vertical-align: top;\n    }\n\n    .dataframe thead th {\n        text-align: right;\n    }\n</style>\n<table border=\"1\" class=\"dataframe\">\n  <thead>\n    <tr style=\"text-align: right;\">\n      <th></th>\n      <th>A</th>\n      <th>AA</th>\n      <th>AAL</th>\n      <th>AAON</th>\n      <th>AAP</th>\n      <th>AAPL</th>\n      <th>AAT</th>\n      <th>AAWW</th>\n      <th>AB</th>\n      <th>ABBV</th>\n      <th>...</th>\n      <th>ZD</th>\n      <th>ZEN</th>\n      <th>ZI</th>\n      <th>ZION</th>\n      <th>ZM</th>\n      <th>ZNTL</th>\n      <th>ZS</th>\n      <th>ZTS</th>\n      <th>ZUO</th>\n      <th>ZWS</th>\n    </tr>\n    <tr>\n      <th>date</th>\n      <th></th>\n      <th></th>\n      <th></th>\n      <th></th>\n      <th></th>\n      <th></th>\n      <th></th>\n      <th></th>\n      <th></th>\n      <th></th>\n      <th></th>\n      <th></th>\n      <th></th>\n      <th></th>\n      <th></th>\n      <th></th>\n      <th></th>\n      <th></th>\n      <th></th>\n      <th></th>\n      <th></th>\n    </tr>\n  </thead>\n  <tbody>\n    <tr>\n      <th>2001-01-03</th>\n      <td>0.103184</td>\n      <td>NaN</td>\n      <td>NaN</td>\n      <td>0.038742</td>\n      <td>NaN</td>\n      <td>0.100134</td>\n      <td>NaN</td>\n      <td>NaN</td>\n      <td>0.077181</td>\n      <td>NaN</td>\n      <td>...</td>\n      <td>0.161290</td>\n      <td>NaN</td>\n      <td>NaN</td>\n      <td>0.033367</td>\n      <td>NaN</td>\n      <td>NaN</td>\n      <td>NaN</td>\n      <td>NaN</td>\n      <td>NaN</td>\n      <td>NaN</td>\n    </tr>\n    <tr>\n      <th>2001-01-04</th>\n      <td>0.037770</td>\n      <td>NaN</td>\n      <td>NaN</td>\n      <td>0.054054</td>\n      <td>NaN</td>\n      <td>0.042150</td>\n      <td>NaN</td>\n      <td>NaN</td>\n      <td>-0.015728</td>\n      <td>NaN</td>\n      <td>...</td>\n      <td>0.055556</td>\n      <td>NaN</td>\n      <td>NaN</td>\n      <td>-0.020181</td>\n      <td>NaN</td>\n      <td>NaN</td>\n      <td>NaN</td>\n      <td>NaN</td>\n      <td>NaN</td>\n      <td>NaN</td>\n    </tr>\n    <tr>\n      <th>2001-01-05</th>\n      <td>-0.054764</td>\n      <td>NaN</td>\n      <td>NaN</td>\n      <td>0.025641</td>\n      <td>NaN</td>\n      <td>-0.040446</td>\n      <td>NaN</td>\n      <td>NaN</td>\n      <td>0.002367</td>\n      <td>NaN</td>\n      <td>...</td>\n      <td>-0.105263</td>\n      <td>NaN</td>\n      <td>NaN</td>\n      <td>-0.011369</td>\n      <td>NaN</td>\n      <td>NaN</td>\n      <td>NaN</td>\n      <td>NaN</td>\n      <td>NaN</td>\n      <td>NaN</td>\n    </tr>\n    <tr>\n      <th>2001-01-08</th>\n      <td>-0.032873</td>\n      <td>NaN</td>\n      <td>NaN</td>\n      <td>-0.025000</td>\n      <td>NaN</td>\n      <td>0.011607</td>\n      <td>NaN</td>\n      <td>NaN</td>\n      <td>-0.018303</td>\n      <td>NaN</td>\n      <td>...</td>\n      <td>0.000000</td>\n      <td>NaN</td>\n      <td>NaN</td>\n      <td>0.002167</td>\n      <td>NaN</td>\n      <td>NaN</td>\n      <td>NaN</td>\n      <td>NaN</td>\n      <td>NaN</td>\n      <td>NaN</td>\n    </tr>\n    <tr>\n      <th>2001-01-09</th>\n      <td>-0.004695</td>\n      <td>NaN</td>\n      <td>NaN</td>\n      <td>0.025641</td>\n      <td>NaN</td>\n      <td>0.038043</td>\n      <td>NaN</td>\n      <td>NaN</td>\n      <td>0.008621</td>\n      <td>NaN</td>\n      <td>...</td>\n      <td>0.000000</td>\n      <td>NaN</td>\n      <td>NaN</td>\n      <td>-0.010477</td>\n      <td>NaN</td>\n      <td>NaN</td>\n      <td>NaN</td>\n      <td>NaN</td>\n      <td>NaN</td>\n      <td>NaN</td>\n    </tr>\n  </tbody>\n</table>\n<p>5 rows × 1856 columns</p>\n</div>"
     },
     "execution_count": 8,
     "metadata": {},
     "output_type": "execute_result"
    }
   ],
   "source": [
    "df.head()"
   ],
   "metadata": {
    "collapsed": false
   }
  },
  {
   "cell_type": "code",
   "execution_count": 9,
   "outputs": [],
   "source": [
    "df.to_parquet('Data/Top 2000/t2k_returns.parquet')"
   ],
   "metadata": {
    "collapsed": false
   }
  },
  {
   "cell_type": "code",
   "execution_count": 24,
   "outputs": [],
   "source": [
    "df = (df - np.nanmean(df, axis=0)) / np.nanstd(df, axis=0)"
   ],
   "metadata": {
    "collapsed": false
   }
  },
  {
   "cell_type": "code",
   "execution_count": 25,
   "outputs": [
    {
     "data": {
      "text/plain": "                   A        AA       AAL      AAON       AAP      AAPL  \\\ndate                                                                     \n2022-10-25  0.704074  1.618307  0.296132  1.957689  1.270766  0.783511   \n2022-10-26  1.013919  0.749150 -0.495022 -0.265672  0.073830 -0.923003   \n2022-10-27 -0.403714 -0.836053 -0.069773  1.103448  1.628966 -1.397675   \n2022-10-28  0.707383 -1.316673  0.030742  1.228447  0.629288  3.245528   \n2022-10-31 -0.155065 -0.281336  0.281654 -0.442528 -0.225061 -0.738323   \n\n                 AAT      AAWW        AB      ABBV  ...        ZD       ZEN  \\\ndate                                                ...                       \n2022-10-25  1.880144 -0.008750  0.858405 -0.463429  ...  1.154312  0.054089   \n2022-10-26 -0.000090  0.022915  0.214511  0.990462  ... -0.032074 -0.089023   \n2022-10-27 -0.939564 -0.075203 -0.350442  0.325026  ... -0.588942 -0.158294   \n2022-10-28  0.498506  0.076774  2.037623 -2.279199  ...  0.905959  0.193145   \n2022-10-31  0.061766  0.063823  0.407066 -0.527636  ... -0.553082  0.039825   \n\n                  ZI      ZION        ZM      ZNTL        ZS       ZTS  \\\ndate                                                                     \n2022-10-25  1.248080  1.230303  0.991571  0.801180  1.380005  1.191836   \n2022-10-26 -0.577065 -0.787555 -0.230955  1.263762 -1.029075 -0.312484   \n2022-10-27  0.209063 -0.029458 -0.244042 -0.354183  0.406035 -0.271809   \n2022-10-28 -0.545114  0.809980  0.429077  1.207914 -0.021737  0.846246   \n2022-10-31 -0.397702  0.262914 -0.244698 -0.125877 -0.029993 -0.949186   \n\n                 ZUO       ZWS  \ndate                            \n2022-10-25  0.305010  1.339094  \n2022-10-26  0.637090 -4.558456  \n2022-10-27  0.367743  0.131473  \n2022-10-28  0.578532  0.883967  \n2022-10-31 -0.101985  1.026477  \n\n[5 rows x 1856 columns]",
      "text/html": "<div>\n<style scoped>\n    .dataframe tbody tr th:only-of-type {\n        vertical-align: middle;\n    }\n\n    .dataframe tbody tr th {\n        vertical-align: top;\n    }\n\n    .dataframe thead th {\n        text-align: right;\n    }\n</style>\n<table border=\"1\" class=\"dataframe\">\n  <thead>\n    <tr style=\"text-align: right;\">\n      <th></th>\n      <th>A</th>\n      <th>AA</th>\n      <th>AAL</th>\n      <th>AAON</th>\n      <th>AAP</th>\n      <th>AAPL</th>\n      <th>AAT</th>\n      <th>AAWW</th>\n      <th>AB</th>\n      <th>ABBV</th>\n      <th>...</th>\n      <th>ZD</th>\n      <th>ZEN</th>\n      <th>ZI</th>\n      <th>ZION</th>\n      <th>ZM</th>\n      <th>ZNTL</th>\n      <th>ZS</th>\n      <th>ZTS</th>\n      <th>ZUO</th>\n      <th>ZWS</th>\n    </tr>\n    <tr>\n      <th>date</th>\n      <th></th>\n      <th></th>\n      <th></th>\n      <th></th>\n      <th></th>\n      <th></th>\n      <th></th>\n      <th></th>\n      <th></th>\n      <th></th>\n      <th></th>\n      <th></th>\n      <th></th>\n      <th></th>\n      <th></th>\n      <th></th>\n      <th></th>\n      <th></th>\n      <th></th>\n      <th></th>\n      <th></th>\n    </tr>\n  </thead>\n  <tbody>\n    <tr>\n      <th>2022-10-25</th>\n      <td>0.704074</td>\n      <td>1.618307</td>\n      <td>0.296132</td>\n      <td>1.957689</td>\n      <td>1.270766</td>\n      <td>0.783511</td>\n      <td>1.880144</td>\n      <td>-0.008750</td>\n      <td>0.858405</td>\n      <td>-0.463429</td>\n      <td>...</td>\n      <td>1.154312</td>\n      <td>0.054089</td>\n      <td>1.248080</td>\n      <td>1.230303</td>\n      <td>0.991571</td>\n      <td>0.801180</td>\n      <td>1.380005</td>\n      <td>1.191836</td>\n      <td>0.305010</td>\n      <td>1.339094</td>\n    </tr>\n    <tr>\n      <th>2022-10-26</th>\n      <td>1.013919</td>\n      <td>0.749150</td>\n      <td>-0.495022</td>\n      <td>-0.265672</td>\n      <td>0.073830</td>\n      <td>-0.923003</td>\n      <td>-0.000090</td>\n      <td>0.022915</td>\n      <td>0.214511</td>\n      <td>0.990462</td>\n      <td>...</td>\n      <td>-0.032074</td>\n      <td>-0.089023</td>\n      <td>-0.577065</td>\n      <td>-0.787555</td>\n      <td>-0.230955</td>\n      <td>1.263762</td>\n      <td>-1.029075</td>\n      <td>-0.312484</td>\n      <td>0.637090</td>\n      <td>-4.558456</td>\n    </tr>\n    <tr>\n      <th>2022-10-27</th>\n      <td>-0.403714</td>\n      <td>-0.836053</td>\n      <td>-0.069773</td>\n      <td>1.103448</td>\n      <td>1.628966</td>\n      <td>-1.397675</td>\n      <td>-0.939564</td>\n      <td>-0.075203</td>\n      <td>-0.350442</td>\n      <td>0.325026</td>\n      <td>...</td>\n      <td>-0.588942</td>\n      <td>-0.158294</td>\n      <td>0.209063</td>\n      <td>-0.029458</td>\n      <td>-0.244042</td>\n      <td>-0.354183</td>\n      <td>0.406035</td>\n      <td>-0.271809</td>\n      <td>0.367743</td>\n      <td>0.131473</td>\n    </tr>\n    <tr>\n      <th>2022-10-28</th>\n      <td>0.707383</td>\n      <td>-1.316673</td>\n      <td>0.030742</td>\n      <td>1.228447</td>\n      <td>0.629288</td>\n      <td>3.245528</td>\n      <td>0.498506</td>\n      <td>0.076774</td>\n      <td>2.037623</td>\n      <td>-2.279199</td>\n      <td>...</td>\n      <td>0.905959</td>\n      <td>0.193145</td>\n      <td>-0.545114</td>\n      <td>0.809980</td>\n      <td>0.429077</td>\n      <td>1.207914</td>\n      <td>-0.021737</td>\n      <td>0.846246</td>\n      <td>0.578532</td>\n      <td>0.883967</td>\n    </tr>\n    <tr>\n      <th>2022-10-31</th>\n      <td>-0.155065</td>\n      <td>-0.281336</td>\n      <td>0.281654</td>\n      <td>-0.442528</td>\n      <td>-0.225061</td>\n      <td>-0.738323</td>\n      <td>0.061766</td>\n      <td>0.063823</td>\n      <td>0.407066</td>\n      <td>-0.527636</td>\n      <td>...</td>\n      <td>-0.553082</td>\n      <td>0.039825</td>\n      <td>-0.397702</td>\n      <td>0.262914</td>\n      <td>-0.244698</td>\n      <td>-0.125877</td>\n      <td>-0.029993</td>\n      <td>-0.949186</td>\n      <td>-0.101985</td>\n      <td>1.026477</td>\n    </tr>\n  </tbody>\n</table>\n<p>5 rows × 1856 columns</p>\n</div>"
     },
     "execution_count": 25,
     "metadata": {},
     "output_type": "execute_result"
    }
   ],
   "source": [
    "df.tail()"
   ],
   "metadata": {
    "collapsed": false
   }
  },
  {
   "cell_type": "code",
   "execution_count": 11,
   "outputs": [
    {
     "data": {
      "text/plain": "                                                             A  \\\nDescription  Agilent Technologies, Inc. engages in the prov...   \nIndustry                            Medical Equipment/Supplies   \nSector                               Health Care/Life Sciences   \n\n                                                            AA  \\\nDescription  Alcoa Corp. engages in the production of bauxi...   \nIndustry                                              Aluminum   \nSector                               Basic Materials/Resources   \n\n                                                           AAL  \\\nDescription  American Airlines Group, Inc. is a holding com...   \nIndustry                                    Passenger Airlines   \nSector                                Transportation/Logistics   \n\n                                                          AAON  \\\nDescription  AAON, Inc. engages in the engineering, manufac...   \nIndustry                           Building Materials/Products   \nSector                                Real Estate/Construction   \n\n                                                           AAP  \\\nDescription  Advance Auto Parts, Inc. engages in the supply...   \nIndustry                                      Specialty Retail   \nSector                                        Retail/Wholesale   \n\n                                                          AAPL  \\\nDescription  Apple, Inc. engages in the design, manufacture...   \nIndustry                        Computers/Consumer Electronics   \nSector                                              Technology   \n\n                                                           AAT  \\\nDescription  American Assets Trust, Inc. is a real estate i...   \nIndustry                                     Diversified REITs   \nSector                                Real Estate/Construction   \n\n                                                          AAWW  \\\nDescription  Atlas Air Worldwide Holdings, Inc. engages in ...   \nIndustry                                      General Services   \nSector                              Business/Consumer Services   \n\n                                                            AB  \\\nDescription  AllianceBernstein Holding LP engages in the pr...   \nIndustry                                   Investment Advisors   \nSector                                      Financial Services   \n\n                                                          ABBV  ...  \\\nDescription  AbbVie, Inc. is a research-based biopharmaceut...  ...   \nIndustry                                         Biotechnology  ...   \nSector                               Health Care/Life Sciences  ...   \n\n                                                            ZD  \\\nDescription  Ziff Davis, Inc. is a digital media and intern...   \nIndustry                                       Internet/Online   \nSector                                              Technology   \n\n                                                           ZEN  \\\nDescription  Zentek Ltd. is an emerging high-tech nano-grap...   \nIndustry                                                  Coal   \nSector                               Basic Materials/Resources   \n\n                                                            ZI  \\\nDescription  ZoomInfo Technologies, Inc. is a holding compa...   \nIndustry                                              Software   \nSector                                              Technology   \n\n                                                          ZION  \\\nDescription  Zions Bancorporation NA is a bank holding comp...   \nIndustry                                               Banking   \nSector                                      Financial Services   \n\n                                                            ZM  \\\nDescription  Zoom Video Communications, Inc. engages in the...   \nIndustry                                              Software   \nSector                                              Technology   \n\n                                                          ZNTL  \\\nDescription  Zentalis Pharmaceuticals, Inc. is a clinical-s...   \nIndustry                                         Biotechnology   \nSector                               Health Care/Life Sciences   \n\n                                                            ZS  \\\nDescription  Zscaler, Inc. engages in the provision of a cl...   \nIndustry                                       Internet/Online   \nSector                                              Technology   \n\n                                                           ZTS  \\\nDescription  Zoetis, Inc. engages in the discovery, develop...   \nIndustry                                       Pharmaceuticals   \nSector                               Health Care/Life Sciences   \n\n                                                           ZUO  \\\nDescription  Zuora, Inc. engages in the provision of cloud-...   \nIndustry                                       Internet/Online   \nSector                                              Technology   \n\n                                                           ZWS  \nDescription  Zurn Elkay Water Solutions Corp. engages in th...  \nIndustry                                   Industrial Products  \nSector                                        Industrial Goods  \n\n[3 rows x 1858 columns]",
      "text/html": "<div>\n<style scoped>\n    .dataframe tbody tr th:only-of-type {\n        vertical-align: middle;\n    }\n\n    .dataframe tbody tr th {\n        vertical-align: top;\n    }\n\n    .dataframe thead th {\n        text-align: right;\n    }\n</style>\n<table border=\"1\" class=\"dataframe\">\n  <thead>\n    <tr style=\"text-align: right;\">\n      <th></th>\n      <th>A</th>\n      <th>AA</th>\n      <th>AAL</th>\n      <th>AAON</th>\n      <th>AAP</th>\n      <th>AAPL</th>\n      <th>AAT</th>\n      <th>AAWW</th>\n      <th>AB</th>\n      <th>ABBV</th>\n      <th>...</th>\n      <th>ZD</th>\n      <th>ZEN</th>\n      <th>ZI</th>\n      <th>ZION</th>\n      <th>ZM</th>\n      <th>ZNTL</th>\n      <th>ZS</th>\n      <th>ZTS</th>\n      <th>ZUO</th>\n      <th>ZWS</th>\n    </tr>\n  </thead>\n  <tbody>\n    <tr>\n      <th>Description</th>\n      <td>Agilent Technologies, Inc. engages in the prov...</td>\n      <td>Alcoa Corp. engages in the production of bauxi...</td>\n      <td>American Airlines Group, Inc. is a holding com...</td>\n      <td>AAON, Inc. engages in the engineering, manufac...</td>\n      <td>Advance Auto Parts, Inc. engages in the supply...</td>\n      <td>Apple, Inc. engages in the design, manufacture...</td>\n      <td>American Assets Trust, Inc. is a real estate i...</td>\n      <td>Atlas Air Worldwide Holdings, Inc. engages in ...</td>\n      <td>AllianceBernstein Holding LP engages in the pr...</td>\n      <td>AbbVie, Inc. is a research-based biopharmaceut...</td>\n      <td>...</td>\n      <td>Ziff Davis, Inc. is a digital media and intern...</td>\n      <td>Zentek Ltd. is an emerging high-tech nano-grap...</td>\n      <td>ZoomInfo Technologies, Inc. is a holding compa...</td>\n      <td>Zions Bancorporation NA is a bank holding comp...</td>\n      <td>Zoom Video Communications, Inc. engages in the...</td>\n      <td>Zentalis Pharmaceuticals, Inc. is a clinical-s...</td>\n      <td>Zscaler, Inc. engages in the provision of a cl...</td>\n      <td>Zoetis, Inc. engages in the discovery, develop...</td>\n      <td>Zuora, Inc. engages in the provision of cloud-...</td>\n      <td>Zurn Elkay Water Solutions Corp. engages in th...</td>\n    </tr>\n    <tr>\n      <th>Industry</th>\n      <td>Medical Equipment/Supplies</td>\n      <td>Aluminum</td>\n      <td>Passenger Airlines</td>\n      <td>Building Materials/Products</td>\n      <td>Specialty Retail</td>\n      <td>Computers/Consumer Electronics</td>\n      <td>Diversified REITs</td>\n      <td>General Services</td>\n      <td>Investment Advisors</td>\n      <td>Biotechnology</td>\n      <td>...</td>\n      <td>Internet/Online</td>\n      <td>Coal</td>\n      <td>Software</td>\n      <td>Banking</td>\n      <td>Software</td>\n      <td>Biotechnology</td>\n      <td>Internet/Online</td>\n      <td>Pharmaceuticals</td>\n      <td>Internet/Online</td>\n      <td>Industrial Products</td>\n    </tr>\n    <tr>\n      <th>Sector</th>\n      <td>Health Care/Life Sciences</td>\n      <td>Basic Materials/Resources</td>\n      <td>Transportation/Logistics</td>\n      <td>Real Estate/Construction</td>\n      <td>Retail/Wholesale</td>\n      <td>Technology</td>\n      <td>Real Estate/Construction</td>\n      <td>Business/Consumer Services</td>\n      <td>Financial Services</td>\n      <td>Health Care/Life Sciences</td>\n      <td>...</td>\n      <td>Technology</td>\n      <td>Basic Materials/Resources</td>\n      <td>Technology</td>\n      <td>Financial Services</td>\n      <td>Technology</td>\n      <td>Health Care/Life Sciences</td>\n      <td>Technology</td>\n      <td>Health Care/Life Sciences</td>\n      <td>Technology</td>\n      <td>Industrial Goods</td>\n    </tr>\n  </tbody>\n</table>\n<p>3 rows × 1858 columns</p>\n</div>"
     },
     "execution_count": 11,
     "metadata": {},
     "output_type": "execute_result"
    }
   ],
   "source": [
    "df2.head()"
   ],
   "metadata": {
    "collapsed": false
   }
  },
  {
   "cell_type": "code",
   "execution_count": 19,
   "outputs": [
    {
     "ename": "KeyError",
     "evalue": "\"['S', 'PRME'] not found in axis\"",
     "output_type": "error",
     "traceback": [
      "\u001B[1;31m---------------------------------------------------------------------------\u001B[0m",
      "\u001B[1;31mKeyError\u001B[0m                                  Traceback (most recent call last)",
      "Cell \u001B[1;32mIn[19], line 1\u001B[0m\n\u001B[1;32m----> 1\u001B[0m \u001B[43mdf2\u001B[49m\u001B[38;5;241;43m.\u001B[39;49m\u001B[43mdrop\u001B[49m\u001B[43m(\u001B[49m\u001B[43mcolumns\u001B[49m\u001B[38;5;241;43m=\u001B[39;49m\u001B[43m[\u001B[49m\u001B[38;5;124;43m'\u001B[39;49m\u001B[38;5;124;43mS\u001B[39;49m\u001B[38;5;124;43m'\u001B[39;49m\u001B[43m,\u001B[49m\u001B[43m \u001B[49m\u001B[38;5;124;43m'\u001B[39;49m\u001B[38;5;124;43mPRME\u001B[39;49m\u001B[38;5;124;43m'\u001B[39;49m\u001B[43m]\u001B[49m\u001B[43m,\u001B[49m\u001B[43m \u001B[49m\u001B[43minplace\u001B[49m\u001B[38;5;241;43m=\u001B[39;49m\u001B[38;5;28;43;01mTrue\u001B[39;49;00m\u001B[43m)\u001B[49m\n",
      "File \u001B[1;32m~\\miniconda3\\envs\\Asset2Vec\\lib\\site-packages\\pandas\\util\\_decorators.py:331\u001B[0m, in \u001B[0;36mdeprecate_nonkeyword_arguments.<locals>.decorate.<locals>.wrapper\u001B[1;34m(*args, **kwargs)\u001B[0m\n\u001B[0;32m    325\u001B[0m \u001B[38;5;28;01mif\u001B[39;00m \u001B[38;5;28mlen\u001B[39m(args) \u001B[38;5;241m>\u001B[39m num_allow_args:\n\u001B[0;32m    326\u001B[0m     warnings\u001B[38;5;241m.\u001B[39mwarn(\n\u001B[0;32m    327\u001B[0m         msg\u001B[38;5;241m.\u001B[39mformat(arguments\u001B[38;5;241m=\u001B[39m_format_argument_list(allow_args)),\n\u001B[0;32m    328\u001B[0m         \u001B[38;5;167;01mFutureWarning\u001B[39;00m,\n\u001B[0;32m    329\u001B[0m         stacklevel\u001B[38;5;241m=\u001B[39mfind_stack_level(),\n\u001B[0;32m    330\u001B[0m     )\n\u001B[1;32m--> 331\u001B[0m \u001B[38;5;28;01mreturn\u001B[39;00m func(\u001B[38;5;241m*\u001B[39margs, \u001B[38;5;241m*\u001B[39m\u001B[38;5;241m*\u001B[39mkwargs)\n",
      "File \u001B[1;32m~\\miniconda3\\envs\\Asset2Vec\\lib\\site-packages\\pandas\\core\\frame.py:5396\u001B[0m, in \u001B[0;36mDataFrame.drop\u001B[1;34m(self, labels, axis, index, columns, level, inplace, errors)\u001B[0m\n\u001B[0;32m   5248\u001B[0m \u001B[38;5;129m@deprecate_nonkeyword_arguments\u001B[39m(version\u001B[38;5;241m=\u001B[39m\u001B[38;5;28;01mNone\u001B[39;00m, allowed_args\u001B[38;5;241m=\u001B[39m[\u001B[38;5;124m\"\u001B[39m\u001B[38;5;124mself\u001B[39m\u001B[38;5;124m\"\u001B[39m, \u001B[38;5;124m\"\u001B[39m\u001B[38;5;124mlabels\u001B[39m\u001B[38;5;124m\"\u001B[39m])\n\u001B[0;32m   5249\u001B[0m \u001B[38;5;28;01mdef\u001B[39;00m \u001B[38;5;21mdrop\u001B[39m(  \u001B[38;5;66;03m# type: ignore[override]\u001B[39;00m\n\u001B[0;32m   5250\u001B[0m     \u001B[38;5;28mself\u001B[39m,\n\u001B[1;32m   (...)\u001B[0m\n\u001B[0;32m   5257\u001B[0m     errors: IgnoreRaise \u001B[38;5;241m=\u001B[39m \u001B[38;5;124m\"\u001B[39m\u001B[38;5;124mraise\u001B[39m\u001B[38;5;124m\"\u001B[39m,\n\u001B[0;32m   5258\u001B[0m ) \u001B[38;5;241m-\u001B[39m\u001B[38;5;241m>\u001B[39m DataFrame \u001B[38;5;241m|\u001B[39m \u001B[38;5;28;01mNone\u001B[39;00m:\n\u001B[0;32m   5259\u001B[0m \u001B[38;5;250m    \u001B[39m\u001B[38;5;124;03m\"\"\"\u001B[39;00m\n\u001B[0;32m   5260\u001B[0m \u001B[38;5;124;03m    Drop specified labels from rows or columns.\u001B[39;00m\n\u001B[0;32m   5261\u001B[0m \n\u001B[1;32m   (...)\u001B[0m\n\u001B[0;32m   5394\u001B[0m \u001B[38;5;124;03m            weight  1.0     0.8\u001B[39;00m\n\u001B[0;32m   5395\u001B[0m \u001B[38;5;124;03m    \"\"\"\u001B[39;00m\n\u001B[1;32m-> 5396\u001B[0m     \u001B[38;5;28;01mreturn\u001B[39;00m \u001B[38;5;28;43msuper\u001B[39;49m\u001B[43m(\u001B[49m\u001B[43m)\u001B[49m\u001B[38;5;241;43m.\u001B[39;49m\u001B[43mdrop\u001B[49m\u001B[43m(\u001B[49m\n\u001B[0;32m   5397\u001B[0m \u001B[43m        \u001B[49m\u001B[43mlabels\u001B[49m\u001B[38;5;241;43m=\u001B[39;49m\u001B[43mlabels\u001B[49m\u001B[43m,\u001B[49m\n\u001B[0;32m   5398\u001B[0m \u001B[43m        \u001B[49m\u001B[43maxis\u001B[49m\u001B[38;5;241;43m=\u001B[39;49m\u001B[43maxis\u001B[49m\u001B[43m,\u001B[49m\n\u001B[0;32m   5399\u001B[0m \u001B[43m        \u001B[49m\u001B[43mindex\u001B[49m\u001B[38;5;241;43m=\u001B[39;49m\u001B[43mindex\u001B[49m\u001B[43m,\u001B[49m\n\u001B[0;32m   5400\u001B[0m \u001B[43m        \u001B[49m\u001B[43mcolumns\u001B[49m\u001B[38;5;241;43m=\u001B[39;49m\u001B[43mcolumns\u001B[49m\u001B[43m,\u001B[49m\n\u001B[0;32m   5401\u001B[0m \u001B[43m        \u001B[49m\u001B[43mlevel\u001B[49m\u001B[38;5;241;43m=\u001B[39;49m\u001B[43mlevel\u001B[49m\u001B[43m,\u001B[49m\n\u001B[0;32m   5402\u001B[0m \u001B[43m        \u001B[49m\u001B[43minplace\u001B[49m\u001B[38;5;241;43m=\u001B[39;49m\u001B[43minplace\u001B[49m\u001B[43m,\u001B[49m\n\u001B[0;32m   5403\u001B[0m \u001B[43m        \u001B[49m\u001B[43merrors\u001B[49m\u001B[38;5;241;43m=\u001B[39;49m\u001B[43merrors\u001B[49m\u001B[43m,\u001B[49m\n\u001B[0;32m   5404\u001B[0m \u001B[43m    \u001B[49m\u001B[43m)\u001B[49m\n",
      "File \u001B[1;32m~\\miniconda3\\envs\\Asset2Vec\\lib\\site-packages\\pandas\\util\\_decorators.py:331\u001B[0m, in \u001B[0;36mdeprecate_nonkeyword_arguments.<locals>.decorate.<locals>.wrapper\u001B[1;34m(*args, **kwargs)\u001B[0m\n\u001B[0;32m    325\u001B[0m \u001B[38;5;28;01mif\u001B[39;00m \u001B[38;5;28mlen\u001B[39m(args) \u001B[38;5;241m>\u001B[39m num_allow_args:\n\u001B[0;32m    326\u001B[0m     warnings\u001B[38;5;241m.\u001B[39mwarn(\n\u001B[0;32m    327\u001B[0m         msg\u001B[38;5;241m.\u001B[39mformat(arguments\u001B[38;5;241m=\u001B[39m_format_argument_list(allow_args)),\n\u001B[0;32m    328\u001B[0m         \u001B[38;5;167;01mFutureWarning\u001B[39;00m,\n\u001B[0;32m    329\u001B[0m         stacklevel\u001B[38;5;241m=\u001B[39mfind_stack_level(),\n\u001B[0;32m    330\u001B[0m     )\n\u001B[1;32m--> 331\u001B[0m \u001B[38;5;28;01mreturn\u001B[39;00m func(\u001B[38;5;241m*\u001B[39margs, \u001B[38;5;241m*\u001B[39m\u001B[38;5;241m*\u001B[39mkwargs)\n",
      "File \u001B[1;32m~\\miniconda3\\envs\\Asset2Vec\\lib\\site-packages\\pandas\\core\\generic.py:4505\u001B[0m, in \u001B[0;36mNDFrame.drop\u001B[1;34m(self, labels, axis, index, columns, level, inplace, errors)\u001B[0m\n\u001B[0;32m   4503\u001B[0m \u001B[38;5;28;01mfor\u001B[39;00m axis, labels \u001B[38;5;129;01min\u001B[39;00m axes\u001B[38;5;241m.\u001B[39mitems():\n\u001B[0;32m   4504\u001B[0m     \u001B[38;5;28;01mif\u001B[39;00m labels \u001B[38;5;129;01mis\u001B[39;00m \u001B[38;5;129;01mnot\u001B[39;00m \u001B[38;5;28;01mNone\u001B[39;00m:\n\u001B[1;32m-> 4505\u001B[0m         obj \u001B[38;5;241m=\u001B[39m \u001B[43mobj\u001B[49m\u001B[38;5;241;43m.\u001B[39;49m\u001B[43m_drop_axis\u001B[49m\u001B[43m(\u001B[49m\u001B[43mlabels\u001B[49m\u001B[43m,\u001B[49m\u001B[43m \u001B[49m\u001B[43maxis\u001B[49m\u001B[43m,\u001B[49m\u001B[43m \u001B[49m\u001B[43mlevel\u001B[49m\u001B[38;5;241;43m=\u001B[39;49m\u001B[43mlevel\u001B[49m\u001B[43m,\u001B[49m\u001B[43m \u001B[49m\u001B[43merrors\u001B[49m\u001B[38;5;241;43m=\u001B[39;49m\u001B[43merrors\u001B[49m\u001B[43m)\u001B[49m\n\u001B[0;32m   4507\u001B[0m \u001B[38;5;28;01mif\u001B[39;00m inplace:\n\u001B[0;32m   4508\u001B[0m     \u001B[38;5;28mself\u001B[39m\u001B[38;5;241m.\u001B[39m_update_inplace(obj)\n",
      "File \u001B[1;32m~\\miniconda3\\envs\\Asset2Vec\\lib\\site-packages\\pandas\\core\\generic.py:4546\u001B[0m, in \u001B[0;36mNDFrame._drop_axis\u001B[1;34m(self, labels, axis, level, errors, only_slice)\u001B[0m\n\u001B[0;32m   4544\u001B[0m         new_axis \u001B[38;5;241m=\u001B[39m axis\u001B[38;5;241m.\u001B[39mdrop(labels, level\u001B[38;5;241m=\u001B[39mlevel, errors\u001B[38;5;241m=\u001B[39merrors)\n\u001B[0;32m   4545\u001B[0m     \u001B[38;5;28;01melse\u001B[39;00m:\n\u001B[1;32m-> 4546\u001B[0m         new_axis \u001B[38;5;241m=\u001B[39m \u001B[43maxis\u001B[49m\u001B[38;5;241;43m.\u001B[39;49m\u001B[43mdrop\u001B[49m\u001B[43m(\u001B[49m\u001B[43mlabels\u001B[49m\u001B[43m,\u001B[49m\u001B[43m \u001B[49m\u001B[43merrors\u001B[49m\u001B[38;5;241;43m=\u001B[39;49m\u001B[43merrors\u001B[49m\u001B[43m)\u001B[49m\n\u001B[0;32m   4547\u001B[0m     indexer \u001B[38;5;241m=\u001B[39m axis\u001B[38;5;241m.\u001B[39mget_indexer(new_axis)\n\u001B[0;32m   4549\u001B[0m \u001B[38;5;66;03m# Case for non-unique axis\u001B[39;00m\n\u001B[0;32m   4550\u001B[0m \u001B[38;5;28;01melse\u001B[39;00m:\n",
      "File \u001B[1;32m~\\miniconda3\\envs\\Asset2Vec\\lib\\site-packages\\pandas\\core\\indexes\\base.py:6977\u001B[0m, in \u001B[0;36mIndex.drop\u001B[1;34m(self, labels, errors)\u001B[0m\n\u001B[0;32m   6975\u001B[0m \u001B[38;5;28;01mif\u001B[39;00m mask\u001B[38;5;241m.\u001B[39many():\n\u001B[0;32m   6976\u001B[0m     \u001B[38;5;28;01mif\u001B[39;00m errors \u001B[38;5;241m!=\u001B[39m \u001B[38;5;124m\"\u001B[39m\u001B[38;5;124mignore\u001B[39m\u001B[38;5;124m\"\u001B[39m:\n\u001B[1;32m-> 6977\u001B[0m         \u001B[38;5;28;01mraise\u001B[39;00m \u001B[38;5;167;01mKeyError\u001B[39;00m(\u001B[38;5;124mf\u001B[39m\u001B[38;5;124m\"\u001B[39m\u001B[38;5;132;01m{\u001B[39;00m\u001B[38;5;28mlist\u001B[39m(labels[mask])\u001B[38;5;132;01m}\u001B[39;00m\u001B[38;5;124m not found in axis\u001B[39m\u001B[38;5;124m\"\u001B[39m)\n\u001B[0;32m   6978\u001B[0m     indexer \u001B[38;5;241m=\u001B[39m indexer[\u001B[38;5;241m~\u001B[39mmask]\n\u001B[0;32m   6979\u001B[0m \u001B[38;5;28;01mreturn\u001B[39;00m \u001B[38;5;28mself\u001B[39m\u001B[38;5;241m.\u001B[39mdelete(indexer)\n",
      "\u001B[1;31mKeyError\u001B[0m: \"['S', 'PRME'] not found in axis\""
     ]
    }
   ],
   "source": [
    "df2.drop(columns=['S', 'PRME'], inplace=True)"
   ],
   "metadata": {
    "collapsed": false
   }
  },
  {
   "cell_type": "code",
   "execution_count": 20,
   "outputs": [],
   "source": [
    "df2.to_parquet('Data/Top 2000/t2k_metadata.parquet')"
   ],
   "metadata": {
    "collapsed": false
   }
  },
  {
   "cell_type": "code",
   "execution_count": 16,
   "outputs": [
    {
     "data": {
      "text/plain": "False"
     },
     "execution_count": 16,
     "metadata": {},
     "output_type": "execute_result"
    }
   ],
   "source": [
    "~(df.columns == df2.columns).any()"
   ],
   "metadata": {
    "collapsed": false
   }
  },
  {
   "cell_type": "code",
   "execution_count": 17,
   "outputs": [
    {
     "data": {
      "text/plain": "1856"
     },
     "execution_count": 17,
     "metadata": {},
     "output_type": "execute_result"
    }
   ],
   "source": [
    "len(df.columns)"
   ],
   "metadata": {
    "collapsed": false
   }
  },
  {
   "cell_type": "code",
   "execution_count": 18,
   "outputs": [
    {
     "data": {
      "text/plain": "1856"
     },
     "execution_count": 18,
     "metadata": {},
     "output_type": "execute_result"
    }
   ],
   "source": [
    "len(df2.columns)"
   ],
   "metadata": {
    "collapsed": false
   }
  },
  {
   "cell_type": "code",
   "execution_count": null,
   "outputs": [],
   "source": [],
   "metadata": {
    "collapsed": false
   }
  },
  {
   "cell_type": "code",
   "execution_count": 1,
   "outputs": [],
   "source": [
    "from lightning_utilities.core.imports import RequirementCache"
   ],
   "metadata": {
    "collapsed": false
   }
  },
  {
   "cell_type": "code",
   "execution_count": 2,
   "outputs": [
    {
     "data": {
      "text/plain": "Requirement 'neptune>=1.0' met"
     },
     "execution_count": 2,
     "metadata": {},
     "output_type": "execute_result"
    }
   ],
   "source": [
    "RequirementCache(\"neptune>=1.0\")"
   ],
   "metadata": {
    "collapsed": false
   }
  }
 ],
 "metadata": {
  "kernelspec": {
   "display_name": "Python 3",
   "language": "python",
   "name": "python3"
  },
  "language_info": {
   "codemirror_mode": {
    "name": "ipython",
    "version": 2
   },
   "file_extension": ".py",
   "mimetype": "text/x-python",
   "name": "python",
   "nbconvert_exporter": "python",
   "pygments_lexer": "ipython2",
   "version": "2.7.6"
  }
 },
 "nbformat": 4,
 "nbformat_minor": 0
}
