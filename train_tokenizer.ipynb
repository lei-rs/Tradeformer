{
 "cells": [
  {
   "cell_type": "code",
   "execution_count": 1,
   "metadata": {
    "collapsed": true
   },
   "outputs": [],
   "source": [
    "from tqdm import tqdm\n",
    "import pandas as pd\n",
    "import numpy as np"
   ]
  },
  {
   "cell_type": "code",
   "execution_count": 2,
   "outputs": [],
   "source": [
    "metadata = pd.read_csv('data/Top 2000/t2k_metadata.csv', index_col=0)\n",
    "descriptions = metadata.loc['Description']"
   ],
   "metadata": {
    "collapsed": false
   }
  },
  {
   "cell_type": "code",
   "execution_count": 3,
   "outputs": [],
   "source": [
    "with open('data/Top 2000/t2k_descriptions.txt', 'w', encoding='utf-8') as f:\n",
    "    f.write('\\n'.join(descriptions) + '\\n')"
   ],
   "metadata": {
    "collapsed": false
   }
  },
  {
   "cell_type": "code",
   "execution_count": 4,
   "outputs": [],
   "source": [
    "from tokenizers import ByteLevelBPETokenizer\n",
    "tokenizer = ByteLevelBPETokenizer()\n",
    "tokenizer.train(files='Data/Top 2000/t2k_descriptions.txt', vocab_size=16000, min_frequency=2, special_tokens=['<s>', '<pad>', '</s>', '<unk>', '<mask>'])"
   ],
   "metadata": {
    "collapsed": false
   }
  },
  {
   "cell_type": "code",
   "execution_count": 5,
   "outputs": [
    {
     "data": {
      "text/plain": "['Data/Top 2000/a2v\\\\vocab.json', 'Data/Top 2000/a2v\\\\merges.txt']"
     },
     "execution_count": 5,
     "metadata": {},
     "output_type": "execute_result"
    }
   ],
   "source": [
    "tokenizer.save_model('Data/Top 2000/a2v')"
   ],
   "metadata": {
    "collapsed": false
   }
  },
  {
   "cell_type": "code",
   "execution_count": 10,
   "outputs": [],
   "source": [
    "from transformers import RobertaTokenizer\n",
    "tokenizer = RobertaTokenizer.from_pretrained('tokenizer/')"
   ],
   "metadata": {
    "collapsed": false
   }
  },
  {
   "cell_type": "code",
   "execution_count": 7,
   "outputs": [
    {
     "data": {
      "text/plain": "['<s>',\n 'Apple',\n ',',\n 'ĠInc',\n '.',\n 'Ġengages',\n 'Ġin',\n 'Ġthe',\n 'Ġdesign',\n ',',\n 'Ġmanufacture',\n ',',\n 'Ġand',\n 'Ġsale',\n 'Ġof',\n 'Ġsmartphones',\n ',',\n 'Ġpersonal',\n 'Ġcomputers',\n ',',\n 'Ġtablets',\n ',',\n 'Ġwearables',\n 'Ġand',\n 'Ġaccessories',\n ',',\n 'Ġand',\n 'Ġother',\n 'Ġvarieties',\n 'Ġof',\n 'Ġrelated',\n 'Ġservices',\n '.',\n 'ĠIt',\n 'Ġoperates',\n 'Ġthrough',\n 'Ġthe',\n 'Ġfollowing',\n 'Ġgeographical',\n 'Ġsegments',\n ':',\n 'ĠAmericas',\n ',',\n 'ĠEurope',\n ',',\n 'ĠGreater',\n 'ĠChina',\n ',',\n 'ĠJapan',\n ',',\n 'Ġand',\n 'ĠRest',\n 'Ġof',\n 'ĠAsia',\n 'ĠPacific',\n '.',\n 'ĠThe',\n 'ĠAmericas',\n 'Ġsegment',\n 'Ġincludes',\n 'ĠNorth',\n 'Ġand',\n 'ĠSouth',\n 'ĠAmerica',\n '.',\n 'ĠThe',\n 'ĠEurope',\n 'Ġsegment',\n 'Ġconsists',\n 'Ġof',\n 'ĠEuropean',\n 'Ġcountries',\n ',',\n 'Ġas',\n 'Ġwell',\n 'Ġas',\n 'ĠIndia',\n ',',\n 'Ġthe',\n 'ĠMiddle',\n 'ĠEast',\n ',',\n 'Ġand',\n 'ĠAfrica',\n '.',\n 'ĠThe',\n 'ĠGreater',\n 'ĠChina',\n 'Ġsegment',\n 'Ġcomprises',\n 'ĠChina',\n ',',\n 'ĠHong',\n 'ĠKong',\n ',',\n 'Ġand',\n 'ĠTaiwan',\n '.',\n 'ĠThe',\n 'ĠRest',\n 'Ġof',\n 'ĠAsia',\n 'ĠPacific',\n 'Ġsegment',\n 'Ġincludes',\n 'ĠAustralia',\n 'Ġand',\n 'ĠAsian',\n 'Ġcountries',\n '.',\n 'ĠIts',\n 'Ġproducts',\n 'Ġand',\n 'Ġservices',\n 'Ġinclude',\n 'ĠiPhone',\n ',',\n 'ĠMac',\n ',',\n 'ĠiPad',\n ',',\n 'ĠAir',\n 'Pod',\n 's',\n ',',\n 'ĠApple',\n 'ĠTV',\n ',',\n 'ĠApple',\n 'ĠW',\n 'atch',\n ',',\n 'ĠBeats',\n 'Ġproducts',\n ',',\n 'ĠApple',\n 'Care',\n ',',\n 'Ġi',\n 'Cloud',\n ',',\n 'Ġdigital',\n 'Ġcontent',\n 'Ġstores',\n ',',\n 'Ġstreaming',\n ',',\n 'Ġand',\n 'Ġlicensing',\n 'Ġservices',\n '.',\n 'ĠThe',\n 'Ġcompany',\n 'Ġwas',\n 'Ġfounded',\n 'Ġby',\n 'ĠSteven',\n 'ĠPaul',\n 'ĠJ',\n 'ob',\n 's',\n ',',\n 'ĠRonald',\n 'ĠGerald',\n 'ĠWayne',\n ',',\n 'Ġand',\n 'ĠStephen',\n 'ĠG',\n '.',\n 'ĠWo',\n 'z',\n 'nia',\n 'k',\n 'Ġin',\n 'ĠApril',\n 'Ġ1976',\n 'Ġand',\n 'Ġis',\n 'Ġheadquartered',\n 'Ġin',\n 'ĠC',\n 'upert',\n 'ino',\n ',',\n 'ĠCA',\n '.',\n '</s>']"
     },
     "execution_count": 7,
     "metadata": {},
     "output_type": "execute_result"
    }
   ],
   "source": [
    "tokens = tokenizer(metadata.loc['Description', 'AAPL'])\n",
    "tokenizer.convert_ids_to_tokens(tokens['input_ids'])"
   ],
   "metadata": {
    "collapsed": false
   }
  },
  {
   "cell_type": "code",
   "execution_count": 8,
   "outputs": [],
   "source": [
    "tokens = [tokenizer(desc)['input_ids'] for desc in descriptions]\n",
    "lengths = [len(token) for token in tokens]"
   ],
   "metadata": {
    "collapsed": false
   }
  },
  {
   "cell_type": "code",
   "execution_count": 9,
   "outputs": [
    {
     "data": {
      "text/plain": "455"
     },
     "execution_count": 9,
     "metadata": {},
     "output_type": "execute_result"
    }
   ],
   "source": [
    "max(lengths)"
   ],
   "metadata": {
    "collapsed": false
   }
  },
  {
   "cell_type": "code",
   "execution_count": 11,
   "outputs": [],
   "source": [
    "from transformers import RobertaTokenizer, RobertaModel, RobertaConfig\n",
    "\n",
    "roberta_config = RobertaConfig(\n",
    "        vocab_size=15193,\n",
    "        hidden_size=384,\n",
    "        num_hidden_layers=6,\n",
    "        intermediate_size=1536,\n",
    "    )\n",
    "TOKENIZER = RobertaTokenizer.from_pretrained('tokenizer/')\n",
    "LM = RobertaModel(config=roberta_config)"
   ],
   "metadata": {
    "collapsed": false
   }
  },
  {
   "cell_type": "code",
   "execution_count": 15,
   "outputs": [],
   "source": [
    "tokens = tokenizer(metadata.loc['Description', 'AAPL'], return_tensors='pt')"
   ],
   "metadata": {
    "collapsed": false
   }
  },
  {
   "cell_type": "code",
   "execution_count": 21,
   "outputs": [
    {
     "data": {
      "text/plain": "torch.Size([1, 384])"
     },
     "execution_count": 21,
     "metadata": {},
     "output_type": "execute_result"
    }
   ],
   "source": [
    "LM(**tokens)[0][:, 0, :].shape"
   ],
   "metadata": {
    "collapsed": false
   }
  },
  {
   "cell_type": "code",
   "execution_count": null,
   "outputs": [],
   "source": [],
   "metadata": {
    "collapsed": false
   }
  }
 ],
 "metadata": {
  "kernelspec": {
   "display_name": "Python 3",
   "language": "python",
   "name": "python3"
  },
  "language_info": {
   "codemirror_mode": {
    "name": "ipython",
    "version": 2
   },
   "file_extension": ".py",
   "mimetype": "text/x-python",
   "name": "python",
   "nbconvert_exporter": "python",
   "pygments_lexer": "ipython2",
   "version": "2.7.6"
  }
 },
 "nbformat": 4,
 "nbformat_minor": 0
}
