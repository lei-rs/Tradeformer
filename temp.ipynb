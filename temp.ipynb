{
 "cells": [
  {
   "cell_type": "code",
   "execution_count": 3,
   "metadata": {
    "collapsed": true,
    "ExecuteTime": {
     "start_time": "2023-04-16T14:06:49.641341Z",
     "end_time": "2023-04-16T14:06:49.647845Z"
    }
   },
   "outputs": [],
   "source": [
    "import pandas as pd"
   ]
  },
  {
   "cell_type": "code",
   "execution_count": 4,
   "outputs": [],
   "source": [
    "idx = pd.IndexSlice\n",
    "df = pd.read_parquet('Data/test.parquet')"
   ],
   "metadata": {
    "collapsed": false,
    "ExecuteTime": {
     "start_time": "2023-04-16T14:06:50.093492Z",
     "end_time": "2023-04-16T14:06:50.392304Z"
    }
   }
  },
  {
   "cell_type": "code",
   "execution_count": 5,
   "outputs": [
    {
     "data": {
      "text/plain": "             Adj Close    Volume  norm_annual_return  norm_biannual_return  \\\nDate                                                                         \n2014-12-31         NaN       NaN                 NaN                   NaN   \n2015-01-02         NaN       NaN                 NaN                   NaN   \n2015-01-05         NaN       NaN                 NaN                   NaN   \n2015-01-06         NaN       NaN                 NaN                   NaN   \n2015-01-07         NaN       NaN                 NaN                   NaN   \n...                ...       ...                 ...                   ...   \n2022-12-22  276.450012  121000.0            0.516301              0.616958   \n2022-12-23  273.799988   95900.0            0.461607              0.622923   \n2022-12-27  272.570007  100000.0            0.375381              0.644158   \n2022-12-28  261.450012  119100.0            0.174161              0.520680   \n2022-12-29  264.380005  109300.0            0.249492              0.455890   \n\n            norm_daily_return  norm_monthly_return  norm_quarterly_return  \\\nDate                                                                        \n2014-12-31                NaN                  NaN                    NaN   \n2015-01-02                NaN                  NaN                    NaN   \n2015-01-05                NaN                  NaN                    NaN   \n2015-01-06                NaN                  NaN                    NaN   \n2015-01-07                NaN                  NaN                    NaN   \n...                       ...                  ...                    ...   \n2022-12-22          -0.505230            -0.778046               0.515636   \n2022-12-23          -0.318846            -0.729864               0.427950   \n2022-12-27          -0.151891            -0.914438               0.472029   \n2022-12-28          -1.361677            -1.083080               0.086506   \n2022-12-29           0.379088            -0.913316               0.093235   \n\n              target  \nDate                  \n2014-12-31       NaN  \n2015-01-02       NaN  \n2015-01-05       NaN  \n2015-01-06       NaN  \n2015-01-07       NaN  \n...              ...  \n2022-12-22 -0.003013  \n2022-12-23 -0.001435  \n2022-12-27 -0.012867  \n2022-12-28  0.003582  \n2022-12-29 -0.003510  \n\n[2014 rows x 8 columns]",
      "text/html": "<div>\n<style scoped>\n    .dataframe tbody tr th:only-of-type {\n        vertical-align: middle;\n    }\n\n    .dataframe tbody tr th {\n        vertical-align: top;\n    }\n\n    .dataframe thead th {\n        text-align: right;\n    }\n</style>\n<table border=\"1\" class=\"dataframe\">\n  <thead>\n    <tr style=\"text-align: right;\">\n      <th></th>\n      <th>Adj Close</th>\n      <th>Volume</th>\n      <th>norm_annual_return</th>\n      <th>norm_biannual_return</th>\n      <th>norm_daily_return</th>\n      <th>norm_monthly_return</th>\n      <th>norm_quarterly_return</th>\n      <th>target</th>\n    </tr>\n    <tr>\n      <th>Date</th>\n      <th></th>\n      <th></th>\n      <th></th>\n      <th></th>\n      <th></th>\n      <th></th>\n      <th></th>\n      <th></th>\n    </tr>\n  </thead>\n  <tbody>\n    <tr>\n      <th>2014-12-31</th>\n      <td>NaN</td>\n      <td>NaN</td>\n      <td>NaN</td>\n      <td>NaN</td>\n      <td>NaN</td>\n      <td>NaN</td>\n      <td>NaN</td>\n      <td>NaN</td>\n    </tr>\n    <tr>\n      <th>2015-01-02</th>\n      <td>NaN</td>\n      <td>NaN</td>\n      <td>NaN</td>\n      <td>NaN</td>\n      <td>NaN</td>\n      <td>NaN</td>\n      <td>NaN</td>\n      <td>NaN</td>\n    </tr>\n    <tr>\n      <th>2015-01-05</th>\n      <td>NaN</td>\n      <td>NaN</td>\n      <td>NaN</td>\n      <td>NaN</td>\n      <td>NaN</td>\n      <td>NaN</td>\n      <td>NaN</td>\n      <td>NaN</td>\n    </tr>\n    <tr>\n      <th>2015-01-06</th>\n      <td>NaN</td>\n      <td>NaN</td>\n      <td>NaN</td>\n      <td>NaN</td>\n      <td>NaN</td>\n      <td>NaN</td>\n      <td>NaN</td>\n      <td>NaN</td>\n    </tr>\n    <tr>\n      <th>2015-01-07</th>\n      <td>NaN</td>\n      <td>NaN</td>\n      <td>NaN</td>\n      <td>NaN</td>\n      <td>NaN</td>\n      <td>NaN</td>\n      <td>NaN</td>\n      <td>NaN</td>\n    </tr>\n    <tr>\n      <th>...</th>\n      <td>...</td>\n      <td>...</td>\n      <td>...</td>\n      <td>...</td>\n      <td>...</td>\n      <td>...</td>\n      <td>...</td>\n      <td>...</td>\n    </tr>\n    <tr>\n      <th>2022-12-22</th>\n      <td>276.450012</td>\n      <td>121000.0</td>\n      <td>0.516301</td>\n      <td>0.616958</td>\n      <td>-0.505230</td>\n      <td>-0.778046</td>\n      <td>0.515636</td>\n      <td>-0.003013</td>\n    </tr>\n    <tr>\n      <th>2022-12-23</th>\n      <td>273.799988</td>\n      <td>95900.0</td>\n      <td>0.461607</td>\n      <td>0.622923</td>\n      <td>-0.318846</td>\n      <td>-0.729864</td>\n      <td>0.427950</td>\n      <td>-0.001435</td>\n    </tr>\n    <tr>\n      <th>2022-12-27</th>\n      <td>272.570007</td>\n      <td>100000.0</td>\n      <td>0.375381</td>\n      <td>0.644158</td>\n      <td>-0.151891</td>\n      <td>-0.914438</td>\n      <td>0.472029</td>\n      <td>-0.012867</td>\n    </tr>\n    <tr>\n      <th>2022-12-28</th>\n      <td>261.450012</td>\n      <td>119100.0</td>\n      <td>0.174161</td>\n      <td>0.520680</td>\n      <td>-1.361677</td>\n      <td>-1.083080</td>\n      <td>0.086506</td>\n      <td>0.003582</td>\n    </tr>\n    <tr>\n      <th>2022-12-29</th>\n      <td>264.380005</td>\n      <td>109300.0</td>\n      <td>0.249492</td>\n      <td>0.455890</td>\n      <td>0.379088</td>\n      <td>-0.913316</td>\n      <td>0.093235</td>\n      <td>-0.003510</td>\n    </tr>\n  </tbody>\n</table>\n<p>2014 rows × 8 columns</p>\n</div>"
     },
     "execution_count": 5,
     "metadata": {},
     "output_type": "execute_result"
    }
   ],
   "source": [
    "df['KNSL']"
   ],
   "metadata": {
    "collapsed": false,
    "ExecuteTime": {
     "start_time": "2023-04-16T14:06:51.629723Z",
     "end_time": "2023-04-16T14:06:51.679041Z"
    }
   }
  },
  {
   "cell_type": "code",
   "execution_count": 4,
   "outputs": [
    {
     "data": {
      "text/plain": "ACI     634\nAGL     433\nALC     941\nALGM    547\nAVTR    914\n       ... \nXP      770\nXPEV    591\nYMM     385\nZI      650\nZM      934\nLength: 76, dtype: int64"
     },
     "execution_count": 4,
     "metadata": {},
     "output_type": "execute_result"
    }
   ],
   "source": [
    "df.count()[df.count() < 1000]"
   ],
   "metadata": {
    "collapsed": false,
    "ExecuteTime": {
     "start_time": "2023-04-16T13:50:35.437213Z",
     "end_time": "2023-04-16T13:50:35.482245Z"
    }
   }
  },
  {
   "cell_type": "code",
   "execution_count": 6,
   "outputs": [
    {
     "data": {
      "text/plain": "Date\n2003-01-02    0.006754\n2003-01-03    0.000000\n2003-01-06   -0.003352\n2003-01-07   -0.020205\n2003-01-08    0.008937\nName: Adj Close, dtype: float64"
     },
     "execution_count": 6,
     "metadata": {},
     "output_type": "execute_result"
    }
   ],
   "source": [
    "df2 = pd.read_parquet('Data/data.parquet')['AAPL']['Adj Close'].pct_change()['2003-01-02':].shift(-1)\n",
    "df2.head()"
   ],
   "metadata": {
    "collapsed": false,
    "ExecuteTime": {
     "start_time": "2023-04-16T03:24:09.721264Z",
     "end_time": "2023-04-16T03:24:10.490282Z"
    }
   }
  },
  {
   "cell_type": "code",
   "execution_count": null,
   "outputs": [],
   "source": [],
   "metadata": {
    "collapsed": false
   }
  },
  {
   "cell_type": "code",
   "execution_count": 5,
   "outputs": [
    {
     "data": {
      "text/plain": "[<matplotlib.lines.Line2D at 0x2d2a9ad95d0>]"
     },
     "execution_count": 5,
     "metadata": {},
     "output_type": "execute_result"
    },
    {
     "data": {
      "text/plain": "<Figure size 640x480 with 1 Axes>",
      "image/png": "[encoded data removed]"
     },
     "metadata": {},
     "output_type": "display_data"
    }
   ],
   "source": [
    "import numpy as np\n",
    "import matplotlib.pyplot as plt\n",
    "\n",
    "plt.plot(np.cumprod(df['AAPL'] + 1))"
   ],
   "metadata": {
    "collapsed": false,
    "ExecuteTime": {
     "start_time": "2023-04-15T18:19:30.838773Z",
     "end_time": "2023-04-15T18:19:31.548528Z"
    }
   }
  },
  {
   "cell_type": "code",
   "execution_count": 6,
   "outputs": [
    {
     "data": {
      "text/plain": "[<matplotlib.lines.Line2D at 0x2d2a9bf9de0>]"
     },
     "execution_count": 6,
     "metadata": {},
     "output_type": "execute_result"
    },
    {
     "data": {
      "text/plain": "<Figure size 640x480 with 1 Axes>",
      "image/png": "[encoded data removed]"
     },
     "metadata": {},
     "output_type": "display_data"
    }
   ],
   "source": [
    "plt.plot(np.cumprod(df['MSFT'] + 1))"
   ],
   "metadata": {
    "collapsed": false,
    "ExecuteTime": {
     "start_time": "2023-04-15T18:19:45.598427Z",
     "end_time": "2023-04-15T18:19:45.773436Z"
    }
   }
  },
  {
   "cell_type": "code",
   "execution_count": 14,
   "outputs": [
    {
     "data": {
      "text/plain": "Series([], dtype: int64)"
     },
     "execution_count": 14,
     "metadata": {},
     "output_type": "execute_result"
    }
   ],
   "source": [
    "df.isna().sum()[df.isna().sum() > 0]"
   ],
   "metadata": {
    "collapsed": false,
    "ExecuteTime": {
     "start_time": "2023-04-14T23:28:28.142227Z",
     "end_time": "2023-04-14T23:28:28.189978Z"
    }
   }
  },
  {
   "cell_type": "code",
   "execution_count": null,
   "outputs": [],
   "source": [],
   "metadata": {
    "collapsed": false
   }
  },
  {
   "cell_type": "code",
   "execution_count": 11,
   "outputs": [
    {
     "data": {
      "text/plain": "         0\nA     5287\nAA    5287\nAAL   4346\nAAP   5287\nAAPL  5287",
      "text/html": "<div>\n<style scoped>\n    .dataframe tbody tr th:only-of-type {\n        vertical-align: middle;\n    }\n\n    .dataframe tbody tr th {\n        vertical-align: top;\n    }\n\n    .dataframe thead th {\n        text-align: right;\n    }\n</style>\n<table border=\"1\" class=\"dataframe\">\n  <thead>\n    <tr style=\"text-align: right;\">\n      <th></th>\n      <th>0</th>\n    </tr>\n  </thead>\n  <tbody>\n    <tr>\n      <th>A</th>\n      <td>5287</td>\n    </tr>\n    <tr>\n      <th>AA</th>\n      <td>5287</td>\n    </tr>\n    <tr>\n      <th>AAL</th>\n      <td>4346</td>\n    </tr>\n    <tr>\n      <th>AAP</th>\n      <td>5287</td>\n    </tr>\n    <tr>\n      <th>AAPL</th>\n      <td>5287</td>\n    </tr>\n  </tbody>\n</table>\n</div>"
     },
     "execution_count": 11,
     "metadata": {},
     "output_type": "execute_result"
    }
   ],
   "source": [
    "counts = pd.read_csv('Data/counts.csv', index_col=0).astype(int)\n",
    "counts.head()"
   ],
   "metadata": {
    "collapsed": false,
    "ExecuteTime": {
     "start_time": "2023-04-14T23:27:38.135639Z",
     "end_time": "2023-04-14T23:27:38.182587Z"
    }
   }
  },
  {
   "cell_type": "code",
   "execution_count": 12,
   "outputs": [
    {
     "data": {
      "text/plain": "         0\nA     5287\nAA    5287\nAAP   5287\nAAPL  5287\nABB   5287\n...    ...\nXOM   5287\nXRAY  5287\nYUM   5287\nZBH   5287\nZBRA  5287\n\n[630 rows x 1 columns]",
      "text/html": "<div>\n<style scoped>\n    .dataframe tbody tr th:only-of-type {\n        vertical-align: middle;\n    }\n\n    .dataframe tbody tr th {\n        vertical-align: top;\n    }\n\n    .dataframe thead th {\n        text-align: right;\n    }\n</style>\n<table border=\"1\" class=\"dataframe\">\n  <thead>\n    <tr style=\"text-align: right;\">\n      <th></th>\n      <th>0</th>\n    </tr>\n  </thead>\n  <tbody>\n    <tr>\n      <th>A</th>\n      <td>5287</td>\n    </tr>\n    <tr>\n      <th>AA</th>\n      <td>5287</td>\n    </tr>\n    <tr>\n      <th>AAP</th>\n      <td>5287</td>\n    </tr>\n    <tr>\n      <th>AAPL</th>\n      <td>5287</td>\n    </tr>\n    <tr>\n      <th>ABB</th>\n      <td>5287</td>\n    </tr>\n    <tr>\n      <th>...</th>\n      <td>...</td>\n    </tr>\n    <tr>\n      <th>XOM</th>\n      <td>5287</td>\n    </tr>\n    <tr>\n      <th>XRAY</th>\n      <td>5287</td>\n    </tr>\n    <tr>\n      <th>YUM</th>\n      <td>5287</td>\n    </tr>\n    <tr>\n      <th>ZBH</th>\n      <td>5287</td>\n    </tr>\n    <tr>\n      <th>ZBRA</th>\n      <td>5287</td>\n    </tr>\n  </tbody>\n</table>\n<p>630 rows × 1 columns</p>\n</div>"
     },
     "execution_count": 12,
     "metadata": {},
     "output_type": "execute_result"
    }
   ],
   "source": [
    "counts[(counts == 5287).values]"
   ],
   "metadata": {
    "collapsed": false,
    "ExecuteTime": {
     "start_time": "2023-04-14T23:27:51.705752Z",
     "end_time": "2023-04-14T23:27:51.717308Z"
    }
   }
  },
  {
   "cell_type": "code",
   "execution_count": null,
   "outputs": [],
   "source": [
    "counts == 5034"
   ],
   "metadata": {
    "collapsed": false,
    "ExecuteTime": {
     "start_time": "2023-04-14T16:05:05.165130Z",
     "end_time": "2023-04-14T16:05:05.188147Z"
    }
   }
  },
  {
   "cell_type": "code",
   "execution_count": null,
   "outputs": [],
   "source": [
    "from embedding_trainer import *"
   ],
   "metadata": {
    "collapsed": false,
    "ExecuteTime": {
     "start_time": "2023-04-14T19:12:46.277193Z",
     "end_time": "2023-04-14T19:12:51.613380Z"
    }
   }
  },
  {
   "cell_type": "code",
   "execution_count": null,
   "outputs": [],
   "source": [
    "idx = pd.IndexSlice\n",
    "DATA = pd.read_parquet('Data/train.parquet').astype(np.float32).loc[:, idx[:, 'target']][-966:]\n",
    "DATA = (DATA - np.mean(DATA, axis=0)) / np.std(DATA, axis=0)"
   ],
   "metadata": {
    "collapsed": false,
    "ExecuteTime": {
     "start_time": "2023-04-14T19:12:54.045439Z",
     "end_time": "2023-04-14T19:12:54.576985Z"
    }
   }
  },
  {
   "cell_type": "code",
   "execution_count": null,
   "outputs": [],
   "source": [
    "encoder = VAE.load_from_checkpoint('lightning_logs/version_35/checkpoints/epoch=18-step=1140.ckpt', input_dim=966, a2v_dim=9).encoder\n",
    "encoder.eval()"
   ],
   "metadata": {
    "collapsed": false,
    "ExecuteTime": {
     "start_time": "2023-04-14T19:13:01.803001Z",
     "end_time": "2023-04-14T19:13:01.858474Z"
    }
   }
  },
  {
   "cell_type": "code",
   "execution_count": null,
   "outputs": [],
   "source": [
    "embeddings = encoder(torch.tensor(DATA.T.values)).detach().numpy()"
   ],
   "metadata": {
    "collapsed": false,
    "ExecuteTime": {
     "start_time": "2023-04-14T19:13:44.450589Z",
     "end_time": "2023-04-14T19:13:44.481185Z"
    }
   }
  },
  {
   "cell_type": "code",
   "execution_count": null,
   "outputs": [],
   "source": [
    "embeddings = pd.DataFrame(embeddings, index=DATA.columns)"
   ],
   "metadata": {
    "collapsed": false,
    "ExecuteTime": {
     "start_time": "2023-04-14T19:13:52.092600Z",
     "end_time": "2023-04-14T19:13:52.099550Z"
    }
   }
  },
  {
   "cell_type": "code",
   "execution_count": null,
   "outputs": [],
   "source": [
    "embeddings.head()"
   ],
   "metadata": {
    "collapsed": false,
    "ExecuteTime": {
     "start_time": "2023-04-14T19:13:58.114640Z",
     "end_time": "2023-04-14T19:13:58.145105Z"
    }
   }
  },
  {
   "cell_type": "code",
   "execution_count": null,
   "outputs": [],
   "source": [
    "embeddings.columns = embeddings.columns.astype(str)"
   ],
   "metadata": {
    "collapsed": false,
    "ExecuteTime": {
     "start_time": "2023-04-14T19:15:51.919598Z",
     "end_time": "2023-04-14T19:15:51.931818Z"
    }
   }
  },
  {
   "cell_type": "code",
   "execution_count": null,
   "outputs": [],
   "source": [
    "embeddings.to_parquet('Pre-trained Embeddings/v1.parquet')"
   ],
   "metadata": {
    "collapsed": false,
    "ExecuteTime": {
     "start_time": "2023-04-14T19:15:52.541872Z",
     "end_time": "2023-04-14T19:15:52.589262Z"
    }
   }
  },
  {
   "cell_type": "code",
   "execution_count": null,
   "outputs": [],
   "source": [],
   "metadata": {
    "collapsed": false
   }
  }
 ],
 "metadata": {
  "kernelspec": {
   "display_name": "Python 3",
   "language": "python",
   "name": "python3"
  },
  "language_info": {
   "codemirror_mode": {
    "name": "ipython",
    "version": 2
   },
   "file_extension": ".py",
   "mimetype": "text/x-python",
   "name": "python",
   "nbconvert_exporter": "python",
   "pygments_lexer": "ipython2",
   "version": "2.7.6"
  }
 },
 "nbformat": 4,
 "nbformat_minor": 0
}
